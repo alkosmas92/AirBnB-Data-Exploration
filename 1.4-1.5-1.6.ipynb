{
 "cells": [
  {
   "cell_type": "code",
   "execution_count": 1,
   "metadata": {
    "scrolled": true
   },
   "outputs": [
    {
     "name": "stdout",
     "output_type": "stream",
     "text": [
      "Python version 2.7.16 |Anaconda, Inc.| (default, Sep 24 2019, 21:51:30) \n",
      "[GCC 7.3.0]\n",
      "Pandas version 0.24.2\n",
      "Matplotlib version 2.2.3\n"
     ]
    }
   ],
   "source": [
    "# Import all libraries needed for the tutorial\n",
    "\n",
    "# General syntax to import specific functions in a library: \n",
    "##from (library) import (specific library function)\n",
    "from pandas import DataFrame, read_csv\n",
    "\n",
    "\n",
    "# General syntax to import a library but no functions: \n",
    "##import (library) as (give the library a nickname/alias)\n",
    "import matplotlib.pyplot as plt\n",
    "import pandas as pd #this is how I usually import pandas\n",
    "import sys #only needed to determine Python version number\n",
    "import matplotlib #only needed to determine Matplotlib version number\n",
    "\n",
    "# Enable inline plotting\n",
    "%matplotlib inline\n",
    "\n",
    "print('Python version ' + sys.version)\n",
    "print('Pandas version ' + pd.__version__)\n",
    "print('Matplotlib version ' + matplotlib.__version__)\n",
    "\n",
    "\n",
    "\n"
   ]
  },
  {
   "cell_type": "code",
   "execution_count": 3,
   "metadata": {},
   "outputs": [],
   "source": [
    "#read the file\n",
    "train = pd.read_csv(\"train.csv\")\n"
   ]
  },
  {
   "cell_type": "code",
   "execution_count": 30,
   "metadata": {},
   "outputs": [],
   "source": [
    "#create list and array with neirghbourhood\n",
    "allo=list(zip(train.neighbourhoodF))\n",
    "df1 = pd.DataFrame(data = allo, columns=[ 'neighbourhoodF'])\n",
    "allo=list(zip(train.neighbourhoodM))\n",
    "df2 = pd.DataFrame(data = allo, columns=[ 'neighbourhoodF'])\n",
    "allo=list(zip(train.neighbourhoodA))\n",
    "df3 = pd.DataFrame(data = allo, columns=[ 'neighbourhoodF'] )\n",
    "\n",
    "#create column with every line have 1\n",
    "df1['One']=1\n",
    "df2['One']=1\n",
    "df3['One']=1\n",
    "\n",
    "#create list and array with every neighbourhood of month and One\n",
    "allo=list(zip(train.neighbourhoodF,df1.One))\n",
    "df1 = pd.DataFrame(data = allo, columns=[ 'neighbourhood','One'])\n",
    "\n",
    "allo=list(zip(train.neighbourhoodM,df2.One))\n",
    "df2 = pd.DataFrame(data = allo, columns=[ 'neighbourhood','One'])\n",
    "\n",
    "allo=list(zip(train.neighbourhoodA,df3.One))\n",
    "df3 = pd.DataFrame(data = allo, columns=[ 'neighbourhood','One'])\n",
    "\n",
    "#find the number of apartement for every month\n",
    "d_1 = pd.DataFrame(data = df1.groupby(['neighbourhood']).sum())\n",
    "d_2 = pd.DataFrame(data = df2.groupby(['neighbourhood']).sum())\n",
    "d_3 = pd.DataFrame(data = df3.groupby(['neighbourhood']).sum())\n",
    "\n",
    "#kartesiano\n",
    "df_row = pd.concat([d_1,d_2,d_3])\n",
    "\n",
    "#the count of all apartment \n",
    "num_apartment = pd.DataFrame(data = df_row.groupby(['neighbourhood']).sum())\n",
    "\n",
    "#create list and array with the number of apartement and the days sum of availability\n",
    "temp_list=list(zip(num_apartment.One,num_apartment.One))\n",
    "all_ = pd.DataFrame(data = temp_list, columns=[ 'num_apartment_One','avail_num_apartment_One'])\n",
    "\n",
    "#polaplasiase me 365 gia na exeis tin sunoliki diathesimotita\n",
    "all_['avail_num_apartment_One'] = all_['avail_num_apartment_One'] * 365 \n",
    "\n"
   ]
  },
  {
   "cell_type": "code",
   "execution_count": 49,
   "metadata": {},
   "outputs": [],
   "source": [
    "#find availability for every month \n",
    "game=list(zip(train.neighbourhoodF,train.availability_365F))\n",
    "df1 = pd.DataFrame(data = game, columns=[ 'neighbourhood','availability' ])\n",
    "\n",
    "game=list(zip(train.neighbourhoodM,train.availability_365M))\n",
    "df2 = pd.DataFrame(data = game, columns=[ 'neighbourhood','availability'])\n",
    "\n",
    "game=list(zip(train.neighbourhoodA,train.availability_365A))\n",
    "df3 = pd.DataFrame(data = game, columns=[ 'neighbourhood','availability'])\n",
    "\n",
    "#kartesiano\n",
    "df_row = pd.concat([df1,df2,df3])\n"
   ]
  },
  {
   "cell_type": "code",
   "execution_count": 57,
   "metadata": {},
   "outputs": [],
   "source": [
    "#find the availability for all month\n",
    "ddf = pd.DataFrame(data = df_row.groupby(['neighbourhood']).sum())\n",
    "#do array again\n",
    "d_1=ddf.reset_index()\n"
   ]
  },
  {
   "cell_type": "code",
   "execution_count": 58,
   "metadata": {},
   "outputs": [],
   "source": [
    "#create list nad array with availability which have apartment for every neighbourhood in a year and \n",
    "# the availability of apartemnt now \n",
    "list_avai=list(zip(all_.avail_num_apartment_One  , d_1.availability))\n",
    "df3 = pd.DataFrame(data = list_avai, columns=[ 'avail_num_apartment_One','sum_availability'])\n"
   ]
  },
  {
   "cell_type": "code",
   "execution_count": 59,
   "metadata": {},
   "outputs": [],
   "source": [
    "#find the reservation\n",
    "df3['result']=(df3['avail_num_apartment_One']-df3['sum_availability'])"
   ]
  },
  {
   "cell_type": "code",
   "execution_count": 106,
   "metadata": {},
   "outputs": [],
   "source": [
    "\n",
    "#create array with neighbourhood and reservation an retain the fisrt and the rest \n",
    "list_final=list(zip(d_1.neighbourhood,df3.result))\n",
    "final= pd.DataFrame(data = list_final, columns=[ 'neighbourhood','result'])\n",
    "\n",
    "final=pd.DataFrame(data = final.groupby(['neighbourhood']).sum())\n",
    "\n",
    "final_one=final.sort_values(by='result', ascending=False)\n",
    "final_one = final.head(1)\n",
    "final_one = pd.DataFrame(data = final_one.groupby(['neighbourhood']).sum())\n"
   ]
  },
  {
   "cell_type": "code",
   "execution_count": 107,
   "metadata": {},
   "outputs": [
    {
     "name": "stdout",
     "output_type": "stream",
     "text": [
      "The most popular name\n"
     ]
    },
    {
     "data": {
      "text/html": [
       "<div>\n",
       "<style scoped>\n",
       "    .dataframe tbody tr th:only-of-type {\n",
       "        vertical-align: middle;\n",
       "    }\n",
       "\n",
       "    .dataframe tbody tr th {\n",
       "        vertical-align: top;\n",
       "    }\n",
       "\n",
       "    .dataframe thead th {\n",
       "        text-align: right;\n",
       "    }\n",
       "</style>\n",
       "<table border=\"1\" class=\"dataframe\">\n",
       "  <thead>\n",
       "    <tr style=\"text-align: right;\">\n",
       "      <th></th>\n",
       "      <th>result</th>\n",
       "    </tr>\n",
       "    <tr>\n",
       "      <th>neighbourhood</th>\n",
       "      <th></th>\n",
       "    </tr>\n",
       "  </thead>\n",
       "  <tbody>\n",
       "    <tr>\n",
       "      <th>Agios Loukas</th>\n",
       "      <td>34630</td>\n",
       "    </tr>\n",
       "  </tbody>\n",
       "</table>\n",
       "</div>"
      ],
      "text/plain": [
       "               result\n",
       "neighbourhood        \n",
       "Agios Loukas    34630"
      ]
     },
     "execution_count": 107,
     "metadata": {},
     "output_type": "execute_result"
    },
    {
     "data": {
      "image/png": "[encoded data removed]",
      "text/plain": [
       "<Figure size 432x288 with 1 Axes>"
      ]
     },
     "metadata": {
      "needs_background": "light"
     },
     "output_type": "display_data"
    }
   ],
   "source": [
    "final_one['result'].plot.bar()\n",
    "\n",
    "print(\"The most popular name\")\n",
    "final_one.sort_values(by='result', ascending=False)"
   ]
  },
  {
   "cell_type": "code",
   "execution_count": 110,
   "metadata": {},
   "outputs": [],
   "source": [
    "#ERWTIMA 1.5-1.6\n"
   ]
  },
  {
   "cell_type": "code",
   "execution_count": 111,
   "metadata": {},
   "outputs": [
    {
     "name": "stdout",
     "output_type": "stream",
     "text": [
      "The most popular name\n"
     ]
    },
    {
     "data": {
      "text/html": [
       "<div>\n",
       "<style scoped>\n",
       "    .dataframe tbody tr th:only-of-type {\n",
       "        vertical-align: middle;\n",
       "    }\n",
       "\n",
       "    .dataframe tbody tr th {\n",
       "        vertical-align: top;\n",
       "    }\n",
       "\n",
       "    .dataframe thead th {\n",
       "        text-align: right;\n",
       "    }\n",
       "</style>\n",
       "<table border=\"1\" class=\"dataframe\">\n",
       "  <thead>\n",
       "    <tr style=\"text-align: right;\">\n",
       "      <th></th>\n",
       "      <th>result</th>\n",
       "    </tr>\n",
       "    <tr>\n",
       "      <th>neighbourhood</th>\n",
       "      <th></th>\n",
       "    </tr>\n",
       "  </thead>\n",
       "  <tbody>\n",
       "    <tr>\n",
       "      <th>Plaka</th>\n",
       "      <td>373651</td>\n",
       "    </tr>\n",
       "    <tr>\n",
       "      <th>Koukaki</th>\n",
       "      <td>284692</td>\n",
       "    </tr>\n",
       "    <tr>\n",
       "      <th>Neos Kosmos</th>\n",
       "      <td>282329</td>\n",
       "    </tr>\n",
       "    <tr>\n",
       "      <th>Pangrati</th>\n",
       "      <td>216551</td>\n",
       "    </tr>\n",
       "    <tr>\n",
       "      <th>Ambelokipi</th>\n",
       "      <td>206330</td>\n",
       "    </tr>\n",
       "    <tr>\n",
       "      <th>Kolonaki</th>\n",
       "      <td>196606</td>\n",
       "    </tr>\n",
       "    <tr>\n",
       "      <th>Larissis</th>\n",
       "      <td>182733</td>\n",
       "    </tr>\n",
       "    <tr>\n",
       "      <th>Metaxourgeio</th>\n",
       "      <td>179624</td>\n",
       "    </tr>\n",
       "    <tr>\n",
       "      <th>Exarcheia</th>\n",
       "      <td>169907</td>\n",
       "    </tr>\n",
       "    <tr>\n",
       "      <th>Psyri</th>\n",
       "      <td>157446</td>\n",
       "    </tr>\n",
       "    <tr>\n",
       "      <th>Pedion Areos</th>\n",
       "      <td>129133</td>\n",
       "    </tr>\n",
       "    <tr>\n",
       "      <th>Mets</th>\n",
       "      <td>126322</td>\n",
       "    </tr>\n",
       "    <tr>\n",
       "      <th>Kypseli</th>\n",
       "      <td>108284</td>\n",
       "    </tr>\n",
       "    <tr>\n",
       "      <th>Neapoli</th>\n",
       "      <td>103030</td>\n",
       "    </tr>\n",
       "    <tr>\n",
       "      <th>Attiki</th>\n",
       "      <td>99729</td>\n",
       "    </tr>\n",
       "    <tr>\n",
       "      <th>Patisia</th>\n",
       "      <td>98911</td>\n",
       "    </tr>\n",
       "    <tr>\n",
       "      <th>Kerameikos</th>\n",
       "      <td>92970</td>\n",
       "    </tr>\n",
       "    <tr>\n",
       "      <th>Petralona</th>\n",
       "      <td>92486</td>\n",
       "    </tr>\n",
       "    <tr>\n",
       "      <th>Agios Nikolaos</th>\n",
       "      <td>80752</td>\n",
       "    </tr>\n",
       "    <tr>\n",
       "      <th>Kolonos</th>\n",
       "      <td>57287</td>\n",
       "    </tr>\n",
       "    <tr>\n",
       "      <th>Thiseio</th>\n",
       "      <td>57156</td>\n",
       "    </tr>\n",
       "    <tr>\n",
       "      <th>Ilisia</th>\n",
       "      <td>56661</td>\n",
       "    </tr>\n",
       "    <tr>\n",
       "      <th>Agios Loukas</th>\n",
       "      <td>34630</td>\n",
       "    </tr>\n",
       "    <tr>\n",
       "      <th>Gazi</th>\n",
       "      <td>33999</td>\n",
       "    </tr>\n",
       "    <tr>\n",
       "      <th>Votanikos</th>\n",
       "      <td>19738</td>\n",
       "    </tr>\n",
       "    <tr>\n",
       "      <th>Akadimia Platonos</th>\n",
       "      <td>18107</td>\n",
       "    </tr>\n",
       "    <tr>\n",
       "      <th>Sepolia</th>\n",
       "      <td>14327</td>\n",
       "    </tr>\n",
       "    <tr>\n",
       "      <th>Rizoupoli</th>\n",
       "      <td>12983</td>\n",
       "    </tr>\n",
       "    <tr>\n",
       "      <th>Monastiraki</th>\n",
       "      <td>8507</td>\n",
       "    </tr>\n",
       "    <tr>\n",
       "      <th>Goudi</th>\n",
       "      <td>7511</td>\n",
       "    </tr>\n",
       "    <tr>\n",
       "      <th>Profitis Daniil</th>\n",
       "      <td>6805</td>\n",
       "    </tr>\n",
       "    <tr>\n",
       "      <th>Rouf</th>\n",
       "      <td>1470</td>\n",
       "    </tr>\n",
       "  </tbody>\n",
       "</table>\n",
       "</div>"
      ],
      "text/plain": [
       "                   result\n",
       "neighbourhood            \n",
       "Plaka              373651\n",
       "Koukaki            284692\n",
       "Neos Kosmos        282329\n",
       "Pangrati           216551\n",
       "Ambelokipi         206330\n",
       "Kolonaki           196606\n",
       "Larissis           182733\n",
       "Metaxourgeio       179624\n",
       "Exarcheia          169907\n",
       "Psyri              157446\n",
       "Pedion Areos       129133\n",
       "Mets               126322\n",
       "Kypseli            108284\n",
       "Neapoli            103030\n",
       "Attiki              99729\n",
       "Patisia             98911\n",
       "Kerameikos          92970\n",
       "Petralona           92486\n",
       "Agios Nikolaos      80752\n",
       "Kolonos             57287\n",
       "Thiseio             57156\n",
       "Ilisia              56661\n",
       "Agios Loukas        34630\n",
       "Gazi                33999\n",
       "Votanikos           19738\n",
       "Akadimia Platonos   18107\n",
       "Sepolia             14327\n",
       "Rizoupoli           12983\n",
       "Monastiraki          8507\n",
       "Goudi                7511\n",
       "Profitis Daniil      6805\n",
       "Rouf                 1470"
      ]
     },
     "execution_count": 111,
     "metadata": {},
     "output_type": "execute_result"
    },
    {
     "data": {
      "image/png": "[encoded data removed]",
      "text/plain": [
       "<Figure size 1080x360 with 1 Axes>"
      ]
     },
     "metadata": {
      "needs_background": "light"
     },
     "output_type": "display_data"
    }
   ],
   "source": [
    "#diagrma for the reservesion per neighbourhood\n",
    "\n",
    "final['result'].plot.bar(figsize=(15, 5))\n",
    "\n",
    "print(\"The most popular name\")\n",
    "final.sort_values(by='result', ascending=False)"
   ]
  },
  {
   "cell_type": "code",
   "execution_count": 109,
   "metadata": {},
   "outputs": [],
   "source": [
    "#ERWIMA 1.5 #reservasion per month "
   ]
  },
  {
   "cell_type": "code",
   "execution_count": 112,
   "metadata": {},
   "outputs": [
    {
     "name": "stderr",
     "output_type": "stream",
     "text": [
      "/home/alex/anaconda2/lib/python2.7/site-packages/IPython/core/interactiveshell.py:2714: DtypeWarning: Columns (61,62) have mixed types. Specify dtype option on import or set low_memory=False.\n",
      "  interactivity=interactivity, compiler=compiler, result=result)\n"
     ]
    }
   ],
   "source": [
    "#read the file \n",
    "train = pd.read_csv(\"train.csv\")\n",
    "\n",
    "\n",
    "#read the availability from listing for three month\n",
    "af= pd.read_csv(\"data/febrouary/listings.csv\")\n",
    "availF=af.availability_30\n",
    "am=pd.read_csv(\"data/march/listings.csv\")\n",
    "availM=am.availability_30\n",
    "aa=pd.read_csv(\"data/april/listings.csv\")\n",
    "availA=aa.availability_30\n",
    "\n",
    "month=list(zip(availF,availM,availA))\n",
    "df = pd.DataFrame(data = month, columns=[ 'Av_F','Av_M','Av_A'])\n",
    "\n",
    "#find the sum availability per month for month \n",
    "sumf=sum(df.Av_F)\n",
    "summ=sum(df.Av_M)\n",
    "suma=sum(df.Av_A)\n",
    "\n",
    "#find the reservation per month for month \n",
    "\n",
    "sumF=len(availF)*30 -sumf\n",
    "sumM=len(availM)*30 -summ\n",
    "sumA=len(availA)*30 -suma\n",
    "\n"
   ]
  },
  {
   "cell_type": "code",
   "execution_count": 113,
   "metadata": {},
   "outputs": [],
   "source": [
    "#create list and array with results from reservation\n",
    "allo=list(zip([sumF],[sumM],[sumA]))\n",
    "df = pd.DataFrame(data = allo, columns=['reservation_FEBRUARY','reservation_MARCH','reservation_APRIL'])"
   ]
  },
  {
   "cell_type": "code",
   "execution_count": 114,
   "metadata": {},
   "outputs": [],
   "source": [
    "#do the column to line \n",
    "transpose = df.T"
   ]
  },
  {
   "cell_type": "code",
   "execution_count": 116,
   "metadata": {},
   "outputs": [
    {
     "name": "stdout",
     "output_type": "stream",
     "text": [
      "The reservations per month (every day is one reservation)\n"
     ]
    },
    {
     "data": {
      "text/html": [
       "<div>\n",
       "<style scoped>\n",
       "    .dataframe tbody tr th:only-of-type {\n",
       "        vertical-align: middle;\n",
       "    }\n",
       "\n",
       "    .dataframe tbody tr th {\n",
       "        vertical-align: top;\n",
       "    }\n",
       "\n",
       "    .dataframe thead th {\n",
       "        text-align: right;\n",
       "    }\n",
       "</style>\n",
       "<table border=\"1\" class=\"dataframe\">\n",
       "  <thead>\n",
       "    <tr style=\"text-align: right;\">\n",
       "      <th></th>\n",
       "      <th>0</th>\n",
       "    </tr>\n",
       "  </thead>\n",
       "  <tbody>\n",
       "    <tr>\n",
       "      <th>reservation_APRIL</th>\n",
       "      <td>174855</td>\n",
       "    </tr>\n",
       "    <tr>\n",
       "      <th>reservation_MARCH</th>\n",
       "      <td>133250</td>\n",
       "    </tr>\n",
       "    <tr>\n",
       "      <th>reservation_FEBRUARY</th>\n",
       "      <td>121199</td>\n",
       "    </tr>\n",
       "  </tbody>\n",
       "</table>\n",
       "</div>"
      ],
      "text/plain": [
       "                           0\n",
       "reservation_APRIL     174855\n",
       "reservation_MARCH     133250\n",
       "reservation_FEBRUARY  121199"
      ]
     },
     "execution_count": 116,
     "metadata": {},
     "output_type": "execute_result"
    },
    {
     "data": {
      "image/png": "[encoded data removed]",
      "text/plain": [
       "<Figure size 936x360 with 1 Axes>"
      ]
     },
     "metadata": {
      "needs_background": "light"
     },
     "output_type": "display_data"
    }
   ],
   "source": [
    "#diagram for reservation per month\n",
    "transpose[0].plot.bar(figsize=(13, 5))\n",
    "\n",
    "print(\"The reservations per month (every day is one reservation)\")\n",
    "transpose.sort_values(by=0, ascending=False)"
   ]
  },
  {
   "cell_type": "code",
   "execution_count": null,
   "metadata": {},
   "outputs": [],
   "source": []
  }
 ],
 "metadata": {
  "kernelspec": {
   "display_name": "Python 2",
   "language": "python",
   "name": "python2"
  },
  "language_info": {
   "codemirror_mode": {
    "name": "ipython",
    "version": 2
   },
   "file_extension": ".py",
   "mimetype": "text/x-python",
   "name": "python",
   "nbconvert_exporter": "python",
   "pygments_lexer": "ipython2",
   "version": "2.7.16"
  }
 },
 "nbformat": 4,
 "nbformat_minor": 2
}
