{
 "cells": [
  {
   "cell_type": "code",
   "execution_count": 1,
   "metadata": {},
   "outputs": [
    {
     "name": "stdout",
     "output_type": "stream",
     "text": [
      "Python version 2.7.16 |Anaconda, Inc.| (default, Sep 24 2019, 21:51:30) \n",
      "[GCC 7.3.0]\n",
      "Pandas version 0.24.2\n",
      "Matplotlib version 2.2.3\n"
     ]
    }
   ],
   "source": [
    "# Import all libraries needed for the tutorial\n",
    "\n",
    "# General syntax to import specific functions in a library: \n",
    "##from (library) import (specific library function)\n",
    "from pandas import DataFrame, read_csv\n",
    "\n",
    "\n",
    "# General syntax to import a library but no functions: \n",
    "##import (library) as (give the library a nickname/alias)\n",
    "import matplotlib.pyplot as plt\n",
    "import pandas as pd #this is how I usually import pandas\n",
    "import sys #only needed to determine Python version number\n",
    "import matplotlib #only needed to determine Matplotlib version number\n",
    "\n",
    "# Enable inline plotting\n",
    "%matplotlib inline\n",
    "\n",
    "print('Python version ' + sys.version)\n",
    "print('Pandas version ' + pd.__version__)\n",
    "print('Matplotlib version ' + matplotlib.__version__)\n",
    "\n",
    "\n"
   ]
  },
  {
   "cell_type": "code",
   "execution_count": 2,
   "metadata": {},
   "outputs": [],
   "source": [
    "train = pd.read_csv(\"train.csv\")"
   ]
  },
  {
   "cell_type": "code",
   "execution_count": 3,
   "metadata": {},
   "outputs": [],
   "source": [
    "#game=list(zip(train.idF,train.priceF,train.room_typeF))\n",
    "#df1=pd.DataFrame(data = game, columns=[ 'id','priceF','typeF'])\n",
    "#\n",
    "#game=list(zip(train.idM,train.priceM,train.room_typeM))\n",
    "#df2=pd.DataFrame(data = game, columns=[ 'id','priceM','typeM'])\n",
    "\n",
    "#game=list(zip(train.idA,train.priceA,train.room_typeA))\n",
    "#df3=pd.DataFrame(data = game, columns=[ 'id','priceA','typeA'])\n",
    "#df4=pd.merge(df1, df2,how='outer')\n",
    "\n",
    "#df4=pd.merge(df4, df3,how='outer')\n",
    "\n"
   ]
  },
  {
   "cell_type": "code",
   "execution_count": 14,
   "metadata": {},
   "outputs": [],
   "source": [
    "#create list and array with price and room_type in february\n",
    "test=list(zip(train.priceF,train.room_typeF))\n",
    "df1= pd.DataFrame(data = test, columns=['priceF','room_typeF'])\n",
    "\n",
    "#remove the $ from price\n",
    "timi=df1.priceF.replace('\\D', '', regex=True).astype(int)\n",
    "timi=timi/100\n",
    "\n",
    "\n",
    "#create list and array with timi and room_type in february\n",
    "test=list(zip(timi,train.room_typeF))\n",
    "df1= pd.DataFrame(data = test, columns=['priceF','room_typeF'])\n",
    "\n",
    "\n",
    "#create list and array with price and room_type in march\n",
    "test=list(zip(train.priceM,train.room_typeM))\n",
    "df2 = pd.DataFrame(data = test, columns=['priceM','room_typeM'])\n",
    "\n",
    "#remove the $ from price\n",
    "timi=df2.priceM.replace('\\D', '', regex=True).astype(int)\n",
    "timi=timi/100\n",
    "\n",
    "\n",
    "#create list and array with timi and room_type in march\n",
    "test=list(zip(timi,train.room_typeM))\n",
    "df2 = pd.DataFrame(data = test, columns=['priceM','room_typeM'])\n",
    "\n",
    "\n",
    "#create list and array with price and room_type in april\n",
    "test=list(zip(train.priceA,train.room_typeA))\n",
    "df3 = pd.DataFrame(data = test, columns=['priceA','room_typeA'])\n",
    "\n",
    "#remove the $ from price\n",
    "timi=df3.priceA.replace('\\D', '', regex=True).astype(int)\n",
    "timi=timi/100\n",
    "\n",
    "#create list and array with timi and room_type in appril\n",
    "test=list(zip(timi,train.room_typeA))\n",
    "df3 = pd.DataFrame(data = test, columns=['priceA','room_typeA'])\n"
   ]
  },
  {
   "cell_type": "code",
   "execution_count": 15,
   "metadata": {},
   "outputs": [],
   "source": [
    "#find the average price for every month\n",
    "df1 = pd.DataFrame(data = df1.groupby(['room_typeF']).mean())\n",
    "df2 = pd.DataFrame(data = df2.groupby(['room_typeM']).mean())\n",
    "df3 = pd.DataFrame(data = df3.groupby(['room_typeA']).mean())\n"
   ]
  },
  {
   "cell_type": "code",
   "execution_count": 18,
   "metadata": {},
   "outputs": [],
   "source": [
    "#do array again\n",
    "d_1=df1.reset_index()\n",
    "d_2=df2.reset_index()\n",
    "d_3=df3.reset_index()\n"
   ]
  },
  {
   "cell_type": "code",
   "execution_count": 20,
   "metadata": {},
   "outputs": [],
   "source": [
    "#rename the column\n",
    "d_2=d_2.rename(columns={\"room_typeM\":\"room_typeF\",\"priceM\":\"priceF\"})\n",
    "d_3=d_3.rename(columns={\"room_typeA\":\"room_typeF\",\"priceA\":\"priceF\"})\n",
    "\n",
    "#kartesiano\n",
    "df_row = pd.concat([d_1,d_2,d_3])\n"
   ]
  },
  {
   "cell_type": "code",
   "execution_count": 23,
   "metadata": {},
   "outputs": [],
   "source": [
    "#sum the three month average price in order to have the final result\n",
    "dall = pd.DataFrame(data = df_row.groupby(['room_typeF']).sum())"
   ]
  },
  {
   "cell_type": "code",
   "execution_count": 24,
   "metadata": {},
   "outputs": [
    {
     "data": {
      "text/html": [
       "<div>\n",
       "<style scoped>\n",
       "    .dataframe tbody tr th:only-of-type {\n",
       "        vertical-align: middle;\n",
       "    }\n",
       "\n",
       "    .dataframe tbody tr th {\n",
       "        vertical-align: top;\n",
       "    }\n",
       "\n",
       "    .dataframe thead th {\n",
       "        text-align: right;\n",
       "    }\n",
       "</style>\n",
       "<table border=\"1\" class=\"dataframe\">\n",
       "  <thead>\n",
       "    <tr style=\"text-align: right;\">\n",
       "      <th></th>\n",
       "      <th>priceF</th>\n",
       "    </tr>\n",
       "    <tr>\n",
       "      <th>room_typeF</th>\n",
       "      <th></th>\n",
       "    </tr>\n",
       "  </thead>\n",
       "  <tbody>\n",
       "    <tr>\n",
       "      <th>Entire home/apt</th>\n",
       "      <td>188.861524</td>\n",
       "    </tr>\n",
       "    <tr>\n",
       "      <th>Private room</th>\n",
       "      <td>250.891129</td>\n",
       "    </tr>\n",
       "    <tr>\n",
       "      <th>Shared room</th>\n",
       "      <td>106.720204</td>\n",
       "    </tr>\n",
       "  </tbody>\n",
       "</table>\n",
       "</div>"
      ],
      "text/plain": [
       "                     priceF\n",
       "room_typeF                 \n",
       "Entire home/apt  188.861524\n",
       "Private room     250.891129\n",
       "Shared room      106.720204"
      ]
     },
     "execution_count": 24,
     "metadata": {},
     "output_type": "execute_result"
    }
   ],
   "source": [
    "dall"
   ]
  },
  {
   "cell_type": "code",
   "execution_count": 25,
   "metadata": {},
   "outputs": [
    {
     "name": "stdout",
     "output_type": "stream",
     "text": [
      "The reservations per month (every day is one reservation)\n"
     ]
    },
    {
     "data": {
      "text/html": [
       "<div>\n",
       "<style scoped>\n",
       "    .dataframe tbody tr th:only-of-type {\n",
       "        vertical-align: middle;\n",
       "    }\n",
       "\n",
       "    .dataframe tbody tr th {\n",
       "        vertical-align: top;\n",
       "    }\n",
       "\n",
       "    .dataframe thead th {\n",
       "        text-align: right;\n",
       "    }\n",
       "</style>\n",
       "<table border=\"1\" class=\"dataframe\">\n",
       "  <thead>\n",
       "    <tr style=\"text-align: right;\">\n",
       "      <th></th>\n",
       "      <th>priceF</th>\n",
       "    </tr>\n",
       "    <tr>\n",
       "      <th>room_typeF</th>\n",
       "      <th></th>\n",
       "    </tr>\n",
       "  </thead>\n",
       "  <tbody>\n",
       "    <tr>\n",
       "      <th>Private room</th>\n",
       "      <td>250.891129</td>\n",
       "    </tr>\n",
       "    <tr>\n",
       "      <th>Entire home/apt</th>\n",
       "      <td>188.861524</td>\n",
       "    </tr>\n",
       "    <tr>\n",
       "      <th>Shared room</th>\n",
       "      <td>106.720204</td>\n",
       "    </tr>\n",
       "  </tbody>\n",
       "</table>\n",
       "</div>"
      ],
      "text/plain": [
       "                     priceF\n",
       "room_typeF                 \n",
       "Private room     250.891129\n",
       "Entire home/apt  188.861524\n",
       "Shared room      106.720204"
      ]
     },
     "execution_count": 25,
     "metadata": {},
     "output_type": "execute_result"
    },
    {
     "data": {
      "image/png": "[encoded data removed]",
      "text/plain": [
       "<Figure size 936x360 with 1 Axes>"
      ]
     },
     "metadata": {
      "needs_background": "light"
     },
     "output_type": "display_data"
    }
   ],
   "source": [
    "#diagram with price for every room_type\n",
    "dall['priceF'].plot.bar(figsize=(13, 5))\n",
    "\n",
    "print(\"The reservations per month (every day is one reservation)\")\n",
    "\n",
    "\n",
    "dall.sort_values(by='priceF', ascending=False)"
   ]
  },
  {
   "cell_type": "code",
   "execution_count": null,
   "metadata": {},
   "outputs": [],
   "source": []
  },
  {
   "cell_type": "code",
   "execution_count": null,
   "metadata": {},
   "outputs": [],
   "source": []
  }
 ],
 "metadata": {
  "kernelspec": {
   "display_name": "Python 2",
   "language": "python",
   "name": "python2"
  },
  "language_info": {
   "codemirror_mode": {
    "name": "ipython",
    "version": 2
   },
   "file_extension": ".py",
   "mimetype": "text/x-python",
   "name": "python",
   "nbconvert_exporter": "python",
   "pygments_lexer": "ipython2",
   "version": "2.7.16"
  }
 },
 "nbformat": 4,
 "nbformat_minor": 2
}
