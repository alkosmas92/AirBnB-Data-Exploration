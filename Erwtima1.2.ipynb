{
 "cells": [
  {
   "cell_type": "code",
   "execution_count": 72,
   "metadata": {},
   "outputs": [
    {
     "name": "stdout",
     "output_type": "stream",
     "text": [
      "Python version 2.7.16 |Anaconda, Inc.| (default, Sep 24 2019, 21:51:30) \n",
      "[GCC 7.3.0]\n",
      "Pandas version 0.24.2\n",
      "Matplotlib version 2.2.3\n"
     ]
    }
   ],
   "source": [
    "# Import all libraries needed for the tutorial\n",
    "\n",
    "# General syntax to import specific functions in a library: \n",
    "##from (library) import (specific library function)\n",
    "from pandas import DataFrame, read_csv\n",
    "\n",
    "\n",
    "# General syntax to import a library but no functions: \n",
    "##import (library) as (give the library a nickname/alias)\n",
    "import matplotlib.pyplot as plt\n",
    "import pandas as pd #this is how I usually import pandas\n",
    "import sys #only needed to determine Python version number\n",
    "import matplotlib #only needed to determine Matplotlib version number\n",
    "\n",
    "# Enable inline plotting\n",
    "%matplotlib inline\n",
    "\n",
    "print('Python version ' + sys.version)\n",
    "print('Pandas version ' + pd.__version__)\n",
    "print('Matplotlib version ' + matplotlib.__version__)\n",
    "\n",
    "\n",
    "\n"
   ]
  },
  {
   "cell_type": "code",
   "execution_count": 73,
   "metadata": {},
   "outputs": [],
   "source": [
    "#read the file\n",
    "train = pd.read_csv(\"train.csv\")"
   ]
  },
  {
   "cell_type": "code",
   "execution_count": 74,
   "metadata": {},
   "outputs": [],
   "source": [
    "#create list and array with id and price for february\n",
    "test=list(zip(train.priceF,train.idF))\n",
    "df1= pd.DataFrame(data = test, columns=['priceF','idF'])\n",
    "\n",
    "#remove the $\n",
    "timi=df1.priceF.replace('\\D', '', regex=True).astype(int)\n",
    "\n",
    "#take a correct price after fuction \n",
    "timi=timi/100\n",
    "\n",
    "#create column with 1\n",
    "df1['One']=1\n",
    "\n",
    "#create a list and array wtih  february's price and One \n",
    "test=list(zip(timi,df1.One))\n",
    "df1= pd.DataFrame(data = test, columns=['priceF','One'])\n",
    "\n",
    "\n",
    "#create list and array with id and price for March\n",
    "test=list(zip(train.priceM,train.idM))\n",
    "df2 = pd.DataFrame(data = test, columns=['priceM','idM'])\n",
    "\n",
    "#remove the $\n",
    "timi=df2.priceM.replace('\\D', '', regex=True).astype(int)\n",
    "\n",
    "#take a correct price after fuction \n",
    "timi=timi/100\n",
    "\n",
    "#create column with 1\n",
    "df2['One']=1\n",
    "\n",
    "#create a list and array wtih  march's price and One \n",
    "test=list(zip(timi,df2.One))\n",
    "df2 = pd.DataFrame(data = test, columns=['priceM','One'])\n",
    "\n",
    "\n",
    "#create list and array with id and price for April\n",
    "test=list(zip(train.priceA,train.idA))\n",
    "df3 = pd.DataFrame(data = test, columns=['priceA','idA'])\n",
    "\n",
    "#remove the $\n",
    "timi=df3.priceA.replace('\\D', '', regex=True).astype(int)\n",
    "\n",
    "#take a correct price after fuction \n",
    "timi=timi/100\n",
    "\n",
    "#create column with 1\n",
    "df3['One']=1\n",
    "\n",
    "#create a list and array wtih  april's price and One \n",
    "test=list(zip(timi,df3.One))\n",
    "df3 = pd.DataFrame(data = test, columns=['priceA','One'])\n"
   ]
  },
  {
   "cell_type": "code",
   "execution_count": 75,
   "metadata": {},
   "outputs": [],
   "source": [
    "#find the average price for three month and you do array again\n",
    "df1_mean = pd.DataFrame(data = df1.groupby(['One']).mean())\n",
    "df1=df1_mean.reset_index()\n",
    "\n",
    "df2_mean = pd.DataFrame(data = df2.groupby(['One']).mean())\n",
    "df2=df2_mean.reset_index()\n",
    "\n",
    "df3_mean = pd.DataFrame(data = df3.groupby(['One']).mean())\n",
    "df3=df3_mean.reset_index()\n"
   ]
  },
  {
   "cell_type": "code",
   "execution_count": 76,
   "metadata": {},
   "outputs": [],
   "source": [
    "#create list and array with the results\n",
    "average=list(zip(df1.priceF,df2.priceM,df3.priceA))\n",
    "df1= pd.DataFrame(data = average, columns=['average_price_Feb','average_price_Mar','average_price_Apr'])\n"
   ]
  },
  {
   "cell_type": "code",
   "execution_count": 77,
   "metadata": {},
   "outputs": [],
   "source": [
    "#kane tis steiles grammes\n",
    "transpose = df1.T"
   ]
  },
  {
   "cell_type": "code",
   "execution_count": 78,
   "metadata": {},
   "outputs": [
    {
     "data": {
      "text/plain": [
       "Text(0.5,1,'price')"
      ]
     },
     "execution_count": 78,
     "metadata": {},
     "output_type": "execute_result"
    },
    {
     "data": {
      "image/png": "[encoded data removed]",
      "text/plain": [
       "<Figure size 576x360 with 1 Axes>"
      ]
     },
     "metadata": {
      "needs_background": "light"
     },
     "output_type": "display_data"
    }
   ],
   "source": [
    "transpose[0].plot(figsize=(8, 5));plt.title('price')"
   ]
  },
  {
   "cell_type": "code",
   "execution_count": null,
   "metadata": {},
   "outputs": [],
   "source": []
  },
  {
   "cell_type": "code",
   "execution_count": null,
   "metadata": {},
   "outputs": [],
   "source": []
  }
 ],
 "metadata": {
  "kernelspec": {
   "display_name": "Python 2",
   "language": "python",
   "name": "python2"
  },
  "language_info": {
   "codemirror_mode": {
    "name": "ipython",
    "version": 2
   },
   "file_extension": ".py",
   "mimetype": "text/x-python",
   "name": "python",
   "nbconvert_exporter": "python",
   "pygments_lexer": "ipython2",
   "version": "2.7.16"
  }
 },
 "nbformat": 4,
 "nbformat_minor": 2
}
