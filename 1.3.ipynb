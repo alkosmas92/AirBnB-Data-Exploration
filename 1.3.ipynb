{
 "cells": [
  {
   "cell_type": "code",
   "execution_count": 12,
   "metadata": {},
   "outputs": [
    {
     "name": "stdout",
     "output_type": "stream",
     "text": [
      "Python version 2.7.16 |Anaconda, Inc.| (default, Sep 24 2019, 21:51:30) \n",
      "[GCC 7.3.0]\n",
      "Pandas version 0.24.2\n",
      "Matplotlib version 2.2.3\n"
     ]
    }
   ],
   "source": [
    "# Import all libraries needed for the tutorial\n",
    "\n",
    "# General syntax to import specific functions in a library: \n",
    "##from (library) import (specific library function)\n",
    "from pandas import DataFrame, read_csv\n",
    "\n",
    "\n",
    "# General syntax to import a library but no functions: \n",
    "##import (library) as (give the library a nickname/alias)\n",
    "import matplotlib.pyplot as plt\n",
    "import pandas as pd #this is how I usually import pandas\n",
    "import sys #only needed to determine Python version number\n",
    "import matplotlib #only needed to determine Matplotlib version number\n",
    "\n",
    "# Enable inline plotting\n",
    "%matplotlib inline\n",
    "\n",
    "print('Python version ' + sys.version)\n",
    "print('Pandas version ' + pd.__version__)\n",
    "print('Matplotlib version ' + matplotlib.__version__)\n",
    "\n",
    "\n",
    "\n"
   ]
  },
  {
   "cell_type": "code",
   "execution_count": 13,
   "metadata": {},
   "outputs": [],
   "source": [
    "#read the file\n",
    "train = pd.read_csv(\"train.csv\")"
   ]
  },
  {
   "cell_type": "code",
   "execution_count": 29,
   "metadata": {},
   "outputs": [],
   "source": [
    "#create list and array fr every month with neighbourhood and number_of_reviews\n",
    "most_freq=list(zip(train.neighbourhoodF,train.number_of_reviewsF))\n",
    "df1 = pd.DataFrame(data = most_freq, columns=['neighbourhoodF','number_of_reviewsF'])\n",
    "\n",
    "most_freq=list(zip(train.neighbourhoodF,train.number_of_reviewsM))\n",
    "df2 = pd.DataFrame(data = most_freq, columns=['neighbourhoodM','number_of_reviewsM'])\n",
    "\n",
    "most_freq=list(zip(train.neighbourhoodF,train.number_of_reviewsA))\n",
    "df3 = pd.DataFrame(data = most_freq, columns=['neighbourhoodA','number_of_reviewsA'])"
   ]
  },
  {
   "cell_type": "code",
   "execution_count": 15,
   "metadata": {},
   "outputs": [],
   "source": [
    "#find the sum number of reviews for unique every month base on neighbourhood\n",
    "\n",
    "df1 = pd.DataFrame(data = df1.groupby(['neighbourhoodF']).sum())\n",
    "df2 = pd.DataFrame(data = df2.groupby(['neighbourhoodM']).sum())\n",
    "df3 = pd.DataFrame(data = df3.groupby(['neighbourhoodA']).sum())"
   ]
  },
  {
   "cell_type": "code",
   "execution_count": 18,
   "metadata": {},
   "outputs": [],
   "source": [
    "#do array again\n",
    "d_1=df1.reset_index()\n",
    "d_2=df2.reset_index()\n",
    "d_3=df3.reset_index()"
   ]
  },
  {
   "cell_type": "code",
   "execution_count": 19,
   "metadata": {},
   "outputs": [],
   "source": [
    "#rename the column  \n",
    "d_2=d_2.rename(columns={\"neighbourhoodM\":\"neighbourhoodF\",\"number_of_reviewsM\":\"number_of_reviewsF\"})\n",
    "d_3=d_3.rename(columns={\"neighbourhoodA\":\"neighbourhoodF\",\"number_of_reviewsA\":\"number_of_reviewsF\"})\n",
    "\n",
    "#kartesiano\n",
    "df_row = pd.concat([d_1,d_2,d_3])\n",
    "\n",
    "\n"
   ]
  },
  {
   "cell_type": "code",
   "execution_count": 30,
   "metadata": {},
   "outputs": [],
   "source": [
    "#find the sum of number_of_reviews for three month\n",
    "df_row = pd.DataFrame(data = df_row.groupby(['neighbourhoodF']).sum())\n",
    "df_row.sort_values(by=['number_of_reviewsF'], inplace=True, ascending=False)\n"
   ]
  },
  {
   "cell_type": "code",
   "execution_count": 27,
   "metadata": {},
   "outputs": [],
   "source": [
    "#retain the top 5\n",
    "df_row1=df_row.head(5)"
   ]
  },
  {
   "cell_type": "code",
   "execution_count": 31,
   "metadata": {},
   "outputs": [
    {
     "name": "stdout",
     "output_type": "stream",
     "text": [
      "The most popular name\n"
     ]
    },
    {
     "data": {
      "text/html": [
       "<div>\n",
       "<style scoped>\n",
       "    .dataframe tbody tr th:only-of-type {\n",
       "        vertical-align: middle;\n",
       "    }\n",
       "\n",
       "    .dataframe tbody tr th {\n",
       "        vertical-align: top;\n",
       "    }\n",
       "\n",
       "    .dataframe thead th {\n",
       "        text-align: right;\n",
       "    }\n",
       "</style>\n",
       "<table border=\"1\" class=\"dataframe\">\n",
       "  <thead>\n",
       "    <tr style=\"text-align: right;\">\n",
       "      <th></th>\n",
       "      <th>number_of_reviewsF</th>\n",
       "    </tr>\n",
       "    <tr>\n",
       "      <th>neighbourhoodF</th>\n",
       "      <th></th>\n",
       "    </tr>\n",
       "  </thead>\n",
       "  <tbody>\n",
       "    <tr>\n",
       "      <th>Plaka</th>\n",
       "      <td>103716</td>\n",
       "    </tr>\n",
       "    <tr>\n",
       "      <th>Koukaki</th>\n",
       "      <td>76923</td>\n",
       "    </tr>\n",
       "    <tr>\n",
       "      <th>Neos Kosmos</th>\n",
       "      <td>73169</td>\n",
       "    </tr>\n",
       "    <tr>\n",
       "      <th>Psyri</th>\n",
       "      <td>48402</td>\n",
       "    </tr>\n",
       "    <tr>\n",
       "      <th>Pangrati</th>\n",
       "      <td>44628</td>\n",
       "    </tr>\n",
       "  </tbody>\n",
       "</table>\n",
       "</div>"
      ],
      "text/plain": [
       "                number_of_reviewsF\n",
       "neighbourhoodF                    \n",
       "Plaka                       103716\n",
       "Koukaki                      76923\n",
       "Neos Kosmos                  73169\n",
       "Psyri                        48402\n",
       "Pangrati                     44628"
      ]
     },
     "execution_count": 31,
     "metadata": {},
     "output_type": "execute_result"
    },
    {
     "data": {
      "image/png": "[encoded data removed]",
      "text/plain": [
       "<Figure size 432x288 with 1 Axes>"
      ]
     },
     "metadata": {
      "needs_background": "light"
     },
     "output_type": "display_data"
    }
   ],
   "source": [
    "#diagram\n",
    "df_row1['number_of_reviewsF'].plot.bar()\n",
    "\n",
    "print(\"The most popular name\")\n",
    "df_row1.sort_values(by='number_of_reviewsF', ascending=False)"
   ]
  },
  {
   "cell_type": "code",
   "execution_count": null,
   "metadata": {},
   "outputs": [],
   "source": []
  },
  {
   "cell_type": "code",
   "execution_count": null,
   "metadata": {},
   "outputs": [],
   "source": []
  }
 ],
 "metadata": {
  "kernelspec": {
   "display_name": "Python 2",
   "language": "python",
   "name": "python2"
  },
  "language_info": {
   "codemirror_mode": {
    "name": "ipython",
    "version": 2
   },
   "file_extension": ".py",
   "mimetype": "text/x-python",
   "name": "python",
   "nbconvert_exporter": "python",
   "pygments_lexer": "ipython2",
   "version": "2.7.16"
  }
 },
 "nbformat": 4,
 "nbformat_minor": 2
}
