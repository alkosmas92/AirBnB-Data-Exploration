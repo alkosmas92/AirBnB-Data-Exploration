{
 "cells": [
  {
   "cell_type": "code",
   "execution_count": 63,
   "metadata": {},
   "outputs": [
    {
     "name": "stdout",
     "output_type": "stream",
     "text": [
      "Python version 2.7.16 |Anaconda, Inc.| (default, Sep 24 2019, 21:51:30) \n",
      "[GCC 7.3.0]\n",
      "Pandas version 0.24.2\n",
      "Matplotlib version 2.2.3\n"
     ]
    }
   ],
   "source": [
    "# Import all libraries needed for the tutorial\n",
    "\n",
    "# General syntax to import specific functions in a library: \n",
    "##from (library) import (specific library function)\n",
    "from pandas import DataFrame, read_csv\n",
    "\n",
    "\n",
    "# General syntax to import a library but no functions: \n",
    "##import (library) as (give the library a nickname/alias)\n",
    "import matplotlib.pyplot as plt\n",
    "import pandas as pd #this is how I usually import pandas\n",
    "import sys #only needed to determine Python version number\n",
    "import matplotlib #only needed to determine Matplotlib version number\n",
    "\n",
    "# Enable inline plotting\n",
    "%matplotlib inline\n",
    "\n",
    "print('Python version ' + sys.version)\n",
    "print('Pandas version ' + pd.__version__)\n",
    "print('Matplotlib version ' + matplotlib.__version__)\n",
    "\n",
    "\n",
    "\n"
   ]
  },
  {
   "cell_type": "code",
   "execution_count": 64,
   "metadata": {},
   "outputs": [],
   "source": [
    "#read file\n",
    "train = pd.read_csv(\"train.csv\")"
   ]
  },
  {
   "cell_type": "code",
   "execution_count": 56,
   "metadata": {},
   "outputs": [],
   "source": [
    "#create column for count room_type\n",
    "train['One']=1"
   ]
  },
  {
   "cell_type": "code",
   "execution_count": 57,
   "metadata": {},
   "outputs": [],
   "source": [
    "#list with room type and column One\n",
    "typeF_room = list(zip(train.room_typeF,train.One))\n",
    "typeM_room = list(zip(train.room_typeM,train.One))\n",
    "typeA_room = list(zip(train.room_typeM,train.One))"
   ]
  },
  {
   "cell_type": "code",
   "execution_count": 58,
   "metadata": {},
   "outputs": [],
   "source": [
    "#list and array with room type and id for every month\n",
    "\n",
    "df=list(zip(train.idF,train.room_typeF))\n",
    "df1=pd.DataFrame(data = df, columns=['id','room_typeF'])\n",
    "\n",
    "df=list(zip(train.idM,train.room_typeM))\n",
    "df2=pd.DataFrame(data = df, columns=['id','room_typeM'])\n",
    "\n",
    "df=list(zip(train.idA,train.room_typeA))\n",
    "df3=pd.DataFrame(data = df, columns=['id','room_typeA'])\n",
    "\n",
    "#merge for id\n",
    "df4=pd.merge(df1, df2,how='outer')\n",
    "df4=pd.merge(df4, df3,how='outer')\n",
    "\n",
    "#list and array for room_type after merge\n",
    "df=list(zip(df4.room_typeF,df4.room_typeM,df4.room_typeA))\n",
    "dfall=pd.DataFrame(data=df,columns=['room_typeF','room_typeM','room_typeA'])\n",
    "\n",
    "\n",
    "#list and array for every month \n",
    "df=list(zip(df4.id,df4.room_typeF))\n",
    "df1=pd.DataFrame(data = df, columns=['id','room_type'])\n",
    "\n",
    "df=list(zip(df4.id,df4.room_typeM))\n",
    "df2=pd.DataFrame(data = df, columns=['id','room_type'])\n",
    "\n",
    "df=list(zip(df4.id,df4.room_typeA))\n",
    "df3=pd.DataFrame(data = df, columns=['id','room_type'])\n",
    "\n",
    "#sunxwneusi\n",
    "df4 = df1.combine_first(df2)\n",
    "dall=df3.combine_first(df4)\n",
    "\n",
    "#without NaN\n",
    "dall = dall[dall['room_type'].notna()]\n"
   ]
  },
  {
   "cell_type": "code",
   "execution_count": 59,
   "metadata": {},
   "outputs": [],
   "source": [
    "#create column one for count roomtype, and add with room_type\n",
    "dall['One']=1\n",
    "\n",
    "df=list(zip(dall.room_type , dall.One ))\n",
    "df2=pd.DataFrame(data = df, columns=['room_type','One'])"
   ]
  },
  {
   "cell_type": "code",
   "execution_count": 60,
   "metadata": {},
   "outputs": [],
   "source": [
    "#find the count for every room_type\n",
    "df_row = pd.DataFrame(data = df2.groupby(['room_type']).sum())"
   ]
  },
  {
   "cell_type": "code",
   "execution_count": 61,
   "metadata": {},
   "outputs": [],
   "source": [
    "#do array again\n",
    "dall=df_row.reset_index()\n",
    "\n"
   ]
  },
  {
   "cell_type": "code",
   "execution_count": 62,
   "metadata": {},
   "outputs": [
    {
     "name": "stdout",
     "output_type": "stream",
     "text": [
      "The most popular name\n"
     ]
    },
    {
     "data": {
      "text/html": [
       "<div>\n",
       "<style scoped>\n",
       "    .dataframe tbody tr th:only-of-type {\n",
       "        vertical-align: middle;\n",
       "    }\n",
       "\n",
       "    .dataframe tbody tr th {\n",
       "        vertical-align: top;\n",
       "    }\n",
       "\n",
       "    .dataframe thead th {\n",
       "        text-align: right;\n",
       "    }\n",
       "</style>\n",
       "<table border=\"1\" class=\"dataframe\">\n",
       "  <thead>\n",
       "    <tr style=\"text-align: right;\">\n",
       "      <th></th>\n",
       "      <th>room_type</th>\n",
       "      <th>One</th>\n",
       "    </tr>\n",
       "  </thead>\n",
       "  <tbody>\n",
       "    <tr>\n",
       "      <th>0</th>\n",
       "      <td>Entire home/apt</td>\n",
       "      <td>8600</td>\n",
       "    </tr>\n",
       "    <tr>\n",
       "      <th>1</th>\n",
       "      <td>Private room</td>\n",
       "      <td>1141</td>\n",
       "    </tr>\n",
       "    <tr>\n",
       "      <th>2</th>\n",
       "      <td>Shared room</td>\n",
       "      <td>55</td>\n",
       "    </tr>\n",
       "  </tbody>\n",
       "</table>\n",
       "</div>"
      ],
      "text/plain": [
       "         room_type   One\n",
       "0  Entire home/apt  8600\n",
       "1     Private room  1141\n",
       "2      Shared room    55"
      ]
     },
     "execution_count": 62,
     "metadata": {},
     "output_type": "execute_result"
    },
    {
     "data": {
      "image/png": "[encoded data removed]",
      "text/plain": [
       "<Figure size 432x288 with 1 Axes>"
      ]
     },
     "metadata": {
      "needs_background": "light"
     },
     "output_type": "display_data"
    }
   ],
   "source": [
    "#create diagram\n",
    "dall['One'].plot.bar()\n",
    "\n",
    "print(\"The most popular name\")\n",
    "dall.sort_values(by='One', ascending=False)"
   ]
  },
  {
   "cell_type": "code",
   "execution_count": null,
   "metadata": {},
   "outputs": [],
   "source": []
  }
 ],
 "metadata": {
  "kernelspec": {
   "display_name": "Python 2",
   "language": "python",
   "name": "python2"
  },
  "language_info": {
   "codemirror_mode": {
    "name": "ipython",
    "version": 2
   },
   "file_extension": ".py",
   "mimetype": "text/x-python",
   "name": "python",
   "nbconvert_exporter": "python",
   "pygments_lexer": "ipython2",
   "version": "2.7.16"
  }
 },
 "nbformat": 4,
 "nbformat_minor": 2
}
